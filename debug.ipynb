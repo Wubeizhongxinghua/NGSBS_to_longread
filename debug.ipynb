{
 "cells": [
  {
   "cell_type": "code",
   "execution_count": 36,
   "id": "f9f4eb17-58cf-49f8-a874-5d76ffd86e18",
   "metadata": {},
   "outputs": [],
   "source": [
    "import pysam\n",
    "import numpy as np\n",
    "import pandas as pd\n",
    "from collections import defaultdict\n",
    "import random\n",
    "import rich_click as click\n",
    "from tqdm.auto import tqdm\n",
    "from icecream import ic\n",
    "def reverse_complement(seq):\n",
    "    \"\"\"\n",
    "    Return the reverse complement of a DNA sequence.\n",
    "    \"\"\"\n",
    "    complement = {'A': 'T', 'T': 'A', 'C': 'G', 'G': 'C', 'N': 'N'}\n",
    "    return ''.join([complement[base] for base in reversed(seq)])\n",
    "\n",
    "# Function to extract CpG positions and methylation states from a read\n",
    "def extract_cpg_states(read, reference_seq, read_start):\n",
    "    \"\"\"\n",
    "    Extract methylation states (0 = unmethylated, 1 = methylated) for CpG sites in a read.\n",
    "    Accounts for bisulfite conversion, insertions, deletions, and reverse strand alignment.\n",
    "    \"\"\"\n",
    "    # Skip reads with soft clips\n",
    "    if any(op[0] == 4 for op in read.cigartuples):\n",
    "        return {}\n",
    "\n",
    "    # Handle reverse strand reads\n",
    "    if read.flag in [83, 163, 1]:\n",
    "        seq = reverse_complement(read.query_sequence)\n",
    "    else:\n",
    "        seq = read.query_sequence\n",
    "\n",
    "    ref_positions = read.get_reference_positions(full_length=True)\n",
    "    cigar = read.cigartuples\n",
    "    states = {}\n",
    "\n",
    "    # Iterate through the read sequence and reference positions\n",
    "    read_index = 0\n",
    "    ref_index = read.reference_start\n",
    "    for op, length in cigar:\n",
    "        if op == 0:  # Match\n",
    "            for i in range(length):\n",
    "                if ref_positions[read_index] is not None:\n",
    "                    # Calculate the position in the fetched reference sequence\n",
    "                    ref_seq_index = ref_index - read_start\n",
    "                    if ref_seq_index >= 0 and ref_seq_index + 1 < len(reference_seq):\n",
    "                        # Check if the current position is part of a CpG site\n",
    "                        if reference_seq[ref_seq_index].upper() == \"C\" and reference_seq[ref_seq_index + 1].upper() == \"G\":\n",
    "                            ic(i)\n",
    "                            # ic(ref_positions)\n",
    "                            ic(ref_seq_index)\n",
    "                            ic(seq[read_index].upper())\n",
    "                            # Determine methylation state\n",
    "                            if seq[read_index].upper() == 'C':\n",
    "                                states[ref_index] = 1  # Methylated\n",
    "                            elif seq[read_index].upper() == 'T':\n",
    "                                states[ref_index] = 0  # Unmethylated\n",
    "                read_index += 1\n",
    "                ref_index += 1\n",
    "        elif op == 1:  # Insertion\n",
    "            read_index += length\n",
    "        elif op == 2:  # Deletion\n",
    "            ref_index += length\n",
    "        elif op == 4:  # Soft clip (already skipped)\n",
    "            pass\n",
    "\n",
    "    return states\n",
    "\n",
    "# Function to build the CpG transition and methylation table\n",
    "def build_cpg_table(bam_file, reference_genome):\n",
    "    \"\"\"\n",
    "    Build a table for CpG sites with transition counts and methylation counts using pandas.\n",
    "    \"\"\"\n",
    "    # Initialize the table as a pandas DataFrame\n",
    "    cpg_table = pd.DataFrame(columns=[\n",
    "        \"chromosome\", \"start\", \"end\", \"0->0\", \"0->1\", \"1->0\", \"1->1\", \"0\", \"1\"\n",
    "    ]).set_index([\"chromosome\", \"start\", \"end\"])\n",
    "\n",
    "    with pysam.AlignmentFile(bam_file, \"rb\") as bam:\n",
    "        for read in tqdm(bam):\n",
    "            if read.is_unmapped:\n",
    "                continue\n",
    "            # Fetch the reference sequence for the region of the read\n",
    "            chromosome = read.reference_name\n",
    "            start = read.reference_start\n",
    "            end = read.reference_end\n",
    "            reference_seq = reference_genome.fetch(chromosome, start, end)\n",
    "            states = extract_cpg_states(read, reference_seq, start)\n",
    "            sorted_positions = sorted(states.keys())\n",
    "            # Update the table\n",
    "            for i in range(1, len(sorted_positions)):\n",
    "                prev_pos = sorted_positions[i - 1]\n",
    "                curr_pos = sorted_positions[i]\n",
    "                prev_state = states[prev_pos]\n",
    "                curr_state = states[curr_pos]\n",
    "                # Update transition counts\n",
    "                transition_key = f\"{prev_state}->{curr_state}\"\n",
    "                if (chromosome, curr_pos, curr_pos + 1) not in cpg_table.index:\n",
    "                    cpg_table.loc[(chromosome, curr_pos, curr_pos + 1)] = [0, 0, 0, 0, 0, 0]\n",
    "                cpg_table.at[(chromosome, curr_pos, curr_pos + 1), transition_key] += 1\n",
    "            # Update methylation counts\n",
    "            for pos, state in states.items():\n",
    "                if (chromosome, pos, pos + 1) not in cpg_table.index:\n",
    "                    cpg_table.loc[(chromosome, pos, pos + 1)] = [0, 0, 0, 0, 0, 0]\n",
    "                cpg_table.at[(chromosome, pos, pos + 1), str(state)] += 1\n",
    "\n",
    "    return cpg_table\n",
    "\n",
    "# Function to simulate long reads based on the CpG table\n",
    "def simulate_long_reads(cpg_table, read_length, num_reads, output_bam):\n",
    "    \"\"\"\n",
    "    Simulate long reads using the CpG table and save to a BAM file.\n",
    "    \"\"\"\n",
    "    # Convert the table to a list of CpG sites\n",
    "    cpg_sites = cpg_table.index.tolist()\n",
    "\n",
    "    # Initialize BAM file for writing\n",
    "    with pysam.AlignmentFile(output_bam, \"wb\", header=pysam.AlignmentHeader.from_references([chromosome for chromosome, _, _ in cpg_sites], [max(end for _, _, end in cpg_sites) + read_length])) as out_bam:\n",
    "        for read_id in tqdm(range(num_reads)):\n",
    "            # Randomly select a starting CpG site\n",
    "            chromosome, start, end = random.choice(cpg_sites)\n",
    "            # Initialize the read\n",
    "            states = {}\n",
    "            prev_state = None\n",
    "            pos = start\n",
    "            while pos < start + read_length:\n",
    "                if (chromosome, pos, pos + 1) not in cpg_table.index:\n",
    "                    break\n",
    "                # Check if the CpG site has any coverage\n",
    "                if cpg_table.loc[(chromosome, pos, pos + 1), \"0\"] + cpg_table.loc[(chromosome, pos, pos + 1), \"1\"] == 0:\n",
    "                    break\n",
    "                # Determine the methylation state\n",
    "                if prev_state is None:\n",
    "                    # Use the beta value for the first CpG\n",
    "                    beta = cpg_table.loc[(chromosome, pos, pos + 1), \"1\"] / (cpg_table.loc[(chromosome, pos, pos + 1), \"0\"] + cpg_table.loc[(chromosome, pos, pos + 1), \"1\"])\n",
    "                    states[pos] = 1 if random.random() < beta else 0\n",
    "                else:\n",
    "                    # Use the transition counts if available\n",
    "                    transition_counts = [\n",
    "                        cpg_table.loc[(chromosome, pos, pos + 1), \"0->0\"],\n",
    "                        cpg_table.loc[(chromosome, pos, pos + 1), \"0->1\"],\n",
    "                        cpg_table.loc[(chromosome, pos, pos + 1), \"1->0\"],\n",
    "                        cpg_table.loc[(chromosome, pos, pos + 1), \"1->1\"]\n",
    "                    ]\n",
    "                    if sum(transition_counts) == 0:\n",
    "                        # Use the beta value if no transition data\n",
    "                        beta = cpg_table.loc[(chromosome, pos, pos + 1), \"1\"] / (cpg_table.loc[(chromosome, pos, pos + 1), \"0\"] + cpg_table.loc[(chromosome, pos, pos + 1), \"1\"])\n",
    "                        states[pos] = 1 if random.random() < beta else 0\n",
    "                    else:\n",
    "                        # Use the transition probabilities\n",
    "                        if prev_state == 0:\n",
    "                            if cpg_table.loc[(chromosome, pos, pos + 1), \"0->0\"] + cpg_table.loc[(chromosome, pos, pos + 1), \"0->1\"] == 0:\n",
    "                                break\n",
    "                            states[pos] = 1 if random.random() < cpg_table.loc[(chromosome, pos, pos + 1), \"0->1\"] / (cpg_table.loc[(chromosome, pos, pos + 1), \"0->0\"] + cpg_table.loc[(chromosome, pos, pos + 1), \"0->1\"]) else 0\n",
    "                        else:\n",
    "                            if cpg_table.loc[(chromosome, pos, pos + 1), \"1->0\"] + cpg_table.loc[(chromosome, pos, pos + 1), \"1->1\"] == 0:\n",
    "                                break\n",
    "                            states[pos] = 1 if random.random() < cpg_table.loc[(chromosome, pos, pos + 1), \"1->1\"] / (cpg_table.loc[(chromosome, pos, pos + 1), \"1->0\"] + cpg_table.loc[(chromosome, pos, pos + 1), \"1->1\"]) else 0\n",
    "                prev_state = states[pos]\n",
    "                pos += 1\n",
    "            # Convert states to sequence (C = methylated, T = unmethylated)\n",
    "            seq = ''.join(['C' if states.get(p, 0) == 1 else 'T' for p in range(start, start + read_length)])\n",
    "            # Create a read\n",
    "            read = pysam.AlignedSegment()\n",
    "            read.query_name = f\"simulated_read_{read_id}\"\n",
    "            read.query_sequence = seq\n",
    "            read.reference_id = out_bam.get_tid(chromosome)  # Chromosome index\n",
    "            read.reference_start = start\n",
    "            read.cigar = [(0, read_length)]  # Assume no indels\n",
    "            read.mapping_quality = 60\n",
    "            # Add read to BAM file\n",
    "            out_bam.write(read)"
   ]
  },
  {
   "cell_type": "code",
   "execution_count": 8,
   "id": "fb1cc9af-66be-4176-b921-3223d2ebc48d",
   "metadata": {},
   "outputs": [],
   "source": [
    "reference_genome = '/gpfs3/chengqiyi_pkuhpc/limingyang/hg38/hg38_only_chromsomes.fa'\n",
    "reference_genome = pysam.FastaFile(reference_genome)\n",
    "bam_file = 'SRR2074689_liver_tumor.clean.bam_DMRed.rmdup_intersect.bam'"
   ]
  },
  {
   "cell_type": "code",
   "execution_count": 50,
   "id": "d7413838-5a25-409e-9540-ec63abb50182",
   "metadata": {},
   "outputs": [],
   "source": [
    "cpg_table = pd.DataFrame(columns=[\n",
    "    \"chromosome\", \"start\", \"end\", \"0->0\", \"0->1\", \"1->0\", \"1->1\", \"0\", \"1\"\n",
    "]).set_index([\"chromosome\", \"start\", \"end\"])"
   ]
  },
  {
   "cell_type": "code",
   "execution_count": 51,
   "id": "b64176a4-f4e7-4966-ba30-b6940efe115a",
   "metadata": {},
   "outputs": [],
   "source": [
    "bam = pysam.AlignmentFile(bam_file, \"rb\")"
   ]
  },
  {
   "cell_type": "code",
   "execution_count": 56,
   "id": "c479fbd1-4198-42f3-b6a3-cbc9d553543a",
   "metadata": {},
   "outputs": [
    {
     "data": {
      "text/plain": [
       "<pysam.libcalignedsegment.AlignedSegment at 0x7fba7a74ff40>"
      ]
     },
     "execution_count": 56,
     "metadata": {},
     "output_type": "execute_result"
    }
   ],
   "source": [
    "read = bam.__next__()\n",
    "read"
   ]
  },
  {
   "cell_type": "code",
   "execution_count": 57,
   "id": "efab73c7-c733-403e-abc7-6a498a4c1f65",
   "metadata": {
    "scrolled": true
   },
   "outputs": [
    {
     "name": "stderr",
     "output_type": "stream",
     "text": [
      "ic| i: 3\n",
      "ic| ref_seq_index: 3\n",
      "ic| seq[read_index].upper(): 'T'\n",
      "ic| i: 20\n",
      "ic| ref_seq_index: 20\n",
      "ic| seq[read_index].upper(): 'T'\n",
      "ic| i: 25\n",
      "ic| ref_seq_index: 25\n",
      "ic| seq[read_index].upper(): 'T'\n",
      "ic| i: 32\n",
      "ic| ref_seq_index: 32\n",
      "ic| seq[read_index].upper(): 'T'\n",
      "ic| i: 34\n",
      "ic| ref_seq_index: 34\n",
      "ic| seq[read_index].upper(): 'T'\n",
      "ic| i: 38\n",
      "ic| ref_seq_index: 38\n",
      "ic| seq[read_index].upper(): 'T'\n",
      "ic| i: 68\n",
      "ic| ref_seq_index: 68\n",
      "ic| seq[read_index].upper(): 'T'\n",
      "ic| i: 74\n",
      "ic| ref_seq_index: 74\n",
      "ic| seq[read_index].upper(): 'T'\n"
     ]
    }
   ],
   "source": [
    "chromosome = read.reference_name\n",
    "start = read.reference_start\n",
    "end = read.reference_end\n",
    "reference_seq = reference_genome.fetch(chromosome, start, end)\n",
    "states = extract_cpg_states(read, reference_seq, start)\n",
    "sorted_positions = sorted(states.keys())\n",
    "# Update the table\n",
    "for i in range(1, len(sorted_positions)):\n",
    "    prev_pos = sorted_positions[i - 1]\n",
    "    curr_pos = sorted_positions[i]\n",
    "    prev_state = states[prev_pos]\n",
    "    curr_state = states[curr_pos]\n",
    "    # Update transition counts\n",
    "    transition_key = f\"{prev_state}->{curr_state}\"\n",
    "    if (chromosome, curr_pos, curr_pos + 1) not in cpg_table.index:\n",
    "        cpg_table.loc[(chromosome, curr_pos, curr_pos + 1)] = [0, 0, 0, 0, 0, 0]\n",
    "    cpg_table.at[(chromosome, curr_pos, curr_pos + 1), transition_key] += 1\n",
    "# Update methylation counts\n",
    "for pos, state in states.items():\n",
    "    if (chromosome, pos, pos + 1) not in cpg_table.index:\n",
    "        cpg_table.loc[(chromosome, pos, pos + 1)] = [0, 0, 0, 0, 0, 0]\n",
    "    cpg_table.at[(chromosome, pos, pos + 1), str(state)] += 1"
   ]
  },
  {
   "cell_type": "code",
   "execution_count": 41,
   "id": "eaaced4e-5aa3-41ed-a6d4-97aff22866a6",
   "metadata": {},
   "outputs": [
    {
     "data": {
      "text/plain": [
       "147"
      ]
     },
     "execution_count": 41,
     "metadata": {},
     "output_type": "execute_result"
    }
   ],
   "source": [
    "read.flag"
   ]
  },
  {
   "cell_type": "code",
   "execution_count": 42,
   "id": "43a18944-4f08-4cfa-a9cb-e4e293427fd0",
   "metadata": {},
   "outputs": [
    {
     "data": {
      "text/plain": [
       "'TTTTGGTAGTTTTTGATTTTTGGTTTGGTTTTTGTGGTTGGGGAGGGTTGGATTTTATATTTTGTTTTTGAGGTTGTATTATTTATTTAGTTT'"
      ]
     },
     "execution_count": 42,
     "metadata": {},
     "output_type": "execute_result"
    }
   ],
   "source": [
    "read.query_sequence"
   ]
  },
  {
   "cell_type": "code",
   "execution_count": 43,
   "id": "b97c4b0d-cd9c-4c23-aee7-efbc9f7ae26d",
   "metadata": {},
   "outputs": [
    {
     "data": {
      "text/plain": [
       "'CCCCGGCAGCCTCTGACTCCCGGCTCGGCTCCCGCGGTCGGGGAGGGTTGGATTTCACACTTTGTTCTCGAGGCCGCACCATTGATTAAGCCC'"
      ]
     },
     "execution_count": 43,
     "metadata": {},
     "output_type": "execute_result"
    }
   ],
   "source": [
    "reference_seq"
   ]
  },
  {
   "cell_type": "code",
   "execution_count": 44,
   "id": "72d0afc4-09d0-4984-adcc-9f12b4d5c577",
   "metadata": {},
   "outputs": [
    {
     "data": {
      "text/plain": [
       "{1164710: 0,\n",
       " 1164727: 0,\n",
       " 1164732: 0,\n",
       " 1164739: 0,\n",
       " 1164741: 0,\n",
       " 1164745: 0,\n",
       " 1164775: 0,\n",
       " 1164781: 0}"
      ]
     },
     "execution_count": 44,
     "metadata": {},
     "output_type": "execute_result"
    }
   ],
   "source": [
    "states"
   ]
  },
  {
   "cell_type": "code",
   "execution_count": 45,
   "id": "ce6e53f9-7e61-4560-947d-4b2fc0d6b8c0",
   "metadata": {},
   "outputs": [
    {
     "data": {
      "text/plain": [
       "[(0, 93)]"
      ]
     },
     "execution_count": 45,
     "metadata": {},
     "output_type": "execute_result"
    }
   ],
   "source": [
    "read.cigartuples"
   ]
  },
  {
   "cell_type": "code",
   "execution_count": 46,
   "id": "52da0443-d7e8-4d1e-8990-1182ae48ed09",
   "metadata": {
    "scrolled": true
   },
   "outputs": [
    {
     "data": {
      "text/plain": [
       "[1164707,\n",
       " 1164708,\n",
       " 1164709,\n",
       " 1164710,\n",
       " 1164711,\n",
       " 1164712,\n",
       " 1164713,\n",
       " 1164714,\n",
       " 1164715,\n",
       " 1164716,\n",
       " 1164717,\n",
       " 1164718,\n",
       " 1164719,\n",
       " 1164720,\n",
       " 1164721,\n",
       " 1164722,\n",
       " 1164723,\n",
       " 1164724,\n",
       " 1164725,\n",
       " 1164726,\n",
       " 1164727,\n",
       " 1164728,\n",
       " 1164729,\n",
       " 1164730,\n",
       " 1164731,\n",
       " 1164732,\n",
       " 1164733,\n",
       " 1164734,\n",
       " 1164735,\n",
       " 1164736,\n",
       " 1164737,\n",
       " 1164738,\n",
       " 1164739,\n",
       " 1164740,\n",
       " 1164741,\n",
       " 1164742,\n",
       " 1164743,\n",
       " 1164744,\n",
       " 1164745,\n",
       " 1164746,\n",
       " 1164747,\n",
       " 1164748,\n",
       " 1164749,\n",
       " 1164750,\n",
       " 1164751,\n",
       " 1164752,\n",
       " 1164753,\n",
       " 1164754,\n",
       " 1164755,\n",
       " 1164756,\n",
       " 1164757,\n",
       " 1164758,\n",
       " 1164759,\n",
       " 1164760,\n",
       " 1164761,\n",
       " 1164762,\n",
       " 1164763,\n",
       " 1164764,\n",
       " 1164765,\n",
       " 1164766,\n",
       " 1164767,\n",
       " 1164768,\n",
       " 1164769,\n",
       " 1164770,\n",
       " 1164771,\n",
       " 1164772,\n",
       " 1164773,\n",
       " 1164774,\n",
       " 1164775,\n",
       " 1164776,\n",
       " 1164777,\n",
       " 1164778,\n",
       " 1164779,\n",
       " 1164780,\n",
       " 1164781,\n",
       " 1164782,\n",
       " 1164783,\n",
       " 1164784,\n",
       " 1164785,\n",
       " 1164786,\n",
       " 1164787,\n",
       " 1164788,\n",
       " 1164789,\n",
       " 1164790,\n",
       " 1164791,\n",
       " 1164792,\n",
       " 1164793,\n",
       " 1164794,\n",
       " 1164795,\n",
       " 1164796,\n",
       " 1164797,\n",
       " 1164798,\n",
       " 1164799]"
      ]
     },
     "execution_count": 46,
     "metadata": {},
     "output_type": "execute_result"
    }
   ],
   "source": [
    "ref_positions = read.get_reference_positions(full_length=True)\n",
    "ref_positions"
   ]
  },
  {
   "cell_type": "code",
   "execution_count": 47,
   "id": "b3aaa5c0-e72b-44a4-997e-a1cabb2b89d2",
   "metadata": {},
   "outputs": [
    {
     "data": {
      "text/plain": [
       "1164707"
      ]
     },
     "execution_count": 47,
     "metadata": {},
     "output_type": "execute_result"
    }
   ],
   "source": [
    "read.reference_start"
   ]
  },
  {
   "cell_type": "code",
   "execution_count": 48,
   "id": "fc312d94-fdc6-43bb-9b95-5dc55dde4962",
   "metadata": {},
   "outputs": [],
   "source": [
    "states = {}\n",
    "read_index = 0\n"
   ]
  },
  {
   "cell_type": "code",
   "execution_count": 58,
   "id": "47eb3b37-1287-42ef-92f3-ca1840d83812",
   "metadata": {},
   "outputs": [
    {
     "data": {
      "text/html": [
       "<div>\n",
       "<style scoped>\n",
       "    .dataframe tbody tr th:only-of-type {\n",
       "        vertical-align: middle;\n",
       "    }\n",
       "\n",
       "    .dataframe tbody tr th {\n",
       "        vertical-align: top;\n",
       "    }\n",
       "\n",
       "    .dataframe thead th {\n",
       "        text-align: right;\n",
       "    }\n",
       "</style>\n",
       "<table border=\"1\" class=\"dataframe\">\n",
       "  <thead>\n",
       "    <tr style=\"text-align: right;\">\n",
       "      <th></th>\n",
       "      <th></th>\n",
       "      <th></th>\n",
       "      <th>0-&gt;0</th>\n",
       "      <th>0-&gt;1</th>\n",
       "      <th>1-&gt;0</th>\n",
       "      <th>1-&gt;1</th>\n",
       "      <th>0</th>\n",
       "      <th>1</th>\n",
       "    </tr>\n",
       "    <tr>\n",
       "      <th>chromosome</th>\n",
       "      <th>start</th>\n",
       "      <th>end</th>\n",
       "      <th></th>\n",
       "      <th></th>\n",
       "      <th></th>\n",
       "      <th></th>\n",
       "      <th></th>\n",
       "      <th></th>\n",
       "    </tr>\n",
       "  </thead>\n",
       "  <tbody>\n",
       "    <tr>\n",
       "      <th rowspan=\"10\" valign=\"top\">chr1</th>\n",
       "      <th>1164696</th>\n",
       "      <th>1164697</th>\n",
       "      <td>1</td>\n",
       "      <td>0</td>\n",
       "      <td>0</td>\n",
       "      <td>0</td>\n",
       "      <td>1</td>\n",
       "      <td>0</td>\n",
       "    </tr>\n",
       "    <tr>\n",
       "      <th>1164710</th>\n",
       "      <th>1164711</th>\n",
       "      <td>1</td>\n",
       "      <td>0</td>\n",
       "      <td>0</td>\n",
       "      <td>0</td>\n",
       "      <td>3</td>\n",
       "      <td>0</td>\n",
       "    </tr>\n",
       "    <tr>\n",
       "      <th>1164727</th>\n",
       "      <th>1164728</th>\n",
       "      <td>2</td>\n",
       "      <td>1</td>\n",
       "      <td>0</td>\n",
       "      <td>0</td>\n",
       "      <td>2</td>\n",
       "      <td>1</td>\n",
       "    </tr>\n",
       "    <tr>\n",
       "      <th>1164732</th>\n",
       "      <th>1164733</th>\n",
       "      <td>2</td>\n",
       "      <td>0</td>\n",
       "      <td>0</td>\n",
       "      <td>1</td>\n",
       "      <td>2</td>\n",
       "      <td>1</td>\n",
       "    </tr>\n",
       "    <tr>\n",
       "      <th>1164739</th>\n",
       "      <th>1164740</th>\n",
       "      <td>2</td>\n",
       "      <td>0</td>\n",
       "      <td>0</td>\n",
       "      <td>1</td>\n",
       "      <td>2</td>\n",
       "      <td>1</td>\n",
       "    </tr>\n",
       "    <tr>\n",
       "      <th>1164741</th>\n",
       "      <th>1164742</th>\n",
       "      <td>2</td>\n",
       "      <td>0</td>\n",
       "      <td>0</td>\n",
       "      <td>1</td>\n",
       "      <td>2</td>\n",
       "      <td>1</td>\n",
       "    </tr>\n",
       "    <tr>\n",
       "      <th>1164745</th>\n",
       "      <th>1164746</th>\n",
       "      <td>2</td>\n",
       "      <td>0</td>\n",
       "      <td>0</td>\n",
       "      <td>1</td>\n",
       "      <td>2</td>\n",
       "      <td>1</td>\n",
       "    </tr>\n",
       "    <tr>\n",
       "      <th>1164775</th>\n",
       "      <th>1164776</th>\n",
       "      <td>2</td>\n",
       "      <td>0</td>\n",
       "      <td>0</td>\n",
       "      <td>1</td>\n",
       "      <td>2</td>\n",
       "      <td>1</td>\n",
       "    </tr>\n",
       "    <tr>\n",
       "      <th>1164781</th>\n",
       "      <th>1164782</th>\n",
       "      <td>2</td>\n",
       "      <td>0</td>\n",
       "      <td>0</td>\n",
       "      <td>1</td>\n",
       "      <td>2</td>\n",
       "      <td>1</td>\n",
       "    </tr>\n",
       "    <tr>\n",
       "      <th>1164689</th>\n",
       "      <th>1164690</th>\n",
       "      <td>0</td>\n",
       "      <td>0</td>\n",
       "      <td>0</td>\n",
       "      <td>0</td>\n",
       "      <td>1</td>\n",
       "      <td>0</td>\n",
       "    </tr>\n",
       "  </tbody>\n",
       "</table>\n",
       "</div>"
      ],
      "text/plain": [
       "                            0->0  0->1  1->0  1->1  0  1\n",
       "chromosome start   end                                  \n",
       "chr1       1164696 1164697     1     0     0     0  1  0\n",
       "           1164710 1164711     1     0     0     0  3  0\n",
       "           1164727 1164728     2     1     0     0  2  1\n",
       "           1164732 1164733     2     0     0     1  2  1\n",
       "           1164739 1164740     2     0     0     1  2  1\n",
       "           1164741 1164742     2     0     0     1  2  1\n",
       "           1164745 1164746     2     0     0     1  2  1\n",
       "           1164775 1164776     2     0     0     1  2  1\n",
       "           1164781 1164782     2     0     0     1  2  1\n",
       "           1164689 1164690     0     0     0     0  1  0"
      ]
     },
     "execution_count": 58,
     "metadata": {},
     "output_type": "execute_result"
    }
   ],
   "source": [
    "cpg_table"
   ]
  },
  {
   "cell_type": "code",
   "execution_count": null,
   "id": "e9c9ee6b-2496-475c-a5a2-d0f8f01863e7",
   "metadata": {},
   "outputs": [],
   "source": []
  }
 ],
 "metadata": {
  "kernelspec": {
   "display_name": "Python 3 (ipykernel)",
   "language": "python",
   "name": "python3"
  },
  "language_info": {
   "codemirror_mode": {
    "name": "ipython",
    "version": 3
   },
   "file_extension": ".py",
   "mimetype": "text/x-python",
   "name": "python",
   "nbconvert_exporter": "python",
   "pygments_lexer": "ipython3",
   "version": "3.12.2"
  }
 },
 "nbformat": 4,
 "nbformat_minor": 5
}
